{
 "cells": [
  {
   "cell_type": "code",
   "execution_count": 1,
   "metadata": {},
   "outputs": [],
   "source": [
    "# import libraries you want to use\n",
    "import numpy as np\n",
    "import matplotlib.pyplot as plt"
   ]
  },
  {
   "cell_type": "code",
   "execution_count": null,
   "metadata": {},
   "outputs": [],
   "source": [
    "https://drive.google.com/file/d/1I2Hf5XRdmwTTnhvOORq9KbD8AldOlMVe/view?usp=sharing"
   ]
  },
  {
   "cell_type": "markdown",
   "metadata": {},
   "source": [
    "\n",
    "Figure 1 shows a method to use force sensing resistor. Let $R_S = 10000$ Ohms. \n",
    "\n",
    "<p align=\"center\">\n",
    "<img src=\"https://drive.google.com/uc?id=1I2Hf5XRdmwTTnhvOORq9KbD8AldOlMVe\" width=650 \n",
    "alt=\"Figure 1\"/>\n",
    "</p>\n",
    "<div align=\"center\"><b>Figure 1 converting force to voltage</b></div>\n",
    "<ol>\n",
    "<li />Use the force -resistance chart on the right to derive a straight line equation \n",
    "mapping between the force and ADC voltage. You can assume that the resistance of FSR is\n",
    "very high when force = 0 gram. (2 points)\n",
    "<li />Plot the line with x-axis = ADC voltage and y-axis = force (3 points)\n",
    "</ol>\n",
    "\n",
    "#### Solution"
   ]
  },
  {
   "cell_type": "markdown",
   "metadata": {},
   "source": [
    "1. Let's call FSR resitance $R_X$ and ADC voltage $V_S$\n",
    "From the chart, $R_X$ is very high when F = 0 gram. Can assume that $R_X$ acts like an open circuit; i.e., $V_S = 0$.\n",
    "$R_X = 1 K\\Omega$ at F = 1000 grams.\n",
    "\n",
    "\n",
    "So at $F = 0, V_S = 0$ (approximately) and at $F = 1000$ compute $V_S$"
   ]
  },
  {
   "cell_type": "code",
   "execution_count": 10,
   "metadata": {},
   "outputs": [
    {
     "data": {
      "text/plain": [
       "3.0"
      ]
     },
     "execution_count": 10,
     "metadata": {},
     "output_type": "execute_result"
    }
   ],
   "source": [
    "Rs = 10000\n",
    "Rx = 1000 # at F = 1000\n",
    "Vs = 3.3*Rs/(Rx+Rs)\n",
    "Vs"
   ]
  },
  {
   "cell_type": "markdown",
   "metadata": {},
   "source": [
    "Compute slope $m$ of a staight line $F = mV_S$ with x-axis = $V_S$ and y-axis = F."
   ]
  },
  {
   "cell_type": "code",
   "execution_count": 11,
   "metadata": {},
   "outputs": [
    {
     "data": {
      "text/plain": [
       "333.3333333333333"
      ]
     },
     "execution_count": 11,
     "metadata": {},
     "output_type": "execute_result"
    }
   ],
   "source": [
    "m = 1000/3\n",
    "m"
   ]
  },
  {
   "cell_type": "code",
   "execution_count": 12,
   "metadata": {},
   "outputs": [
    {
     "data": {
      "image/png": "[encoded data removed]",
      "text/plain": [
       "<Figure size 432x288 with 1 Axes>"
      ]
     },
     "metadata": {
      "needs_background": "light"
     },
     "output_type": "display_data"
    }
   ],
   "source": [
    "#2. plot the straingt line\n",
    "vsvec = np.arange(0,3.3,0.01)  # ADC range\n",
    "fvec = m*vsvec\n",
    "plt.figure()\n",
    "plt.plot(vsvec, fvec,'r-')\n",
    "plt.xlabel('ADC voltage (volts)')\n",
    "plt.ylabel('Force (grams)')\n",
    "plt.grid(True)\n",
    "plt.show()"
   ]
  },
  {
   "cell_type": "code",
   "execution_count": null,
   "metadata": {},
   "outputs": [],
   "source": []
  },
  {
   "cell_type": "markdown",
   "metadata": {},
   "source": [
    "##### Rev. 1A : August 2022"
   ]
  }
 ],
 "metadata": {
  "kernelspec": {
   "display_name": "Python [conda env:tf] *",
   "language": "python",
   "name": "conda-env-tf-py"
  },
  "language_info": {
   "codemirror_mode": {
    "name": "ipython",
    "version": 3
   },
   "file_extension": ".py",
   "mimetype": "text/x-python",
   "name": "python",
   "nbconvert_exporter": "python",
   "pygments_lexer": "ipython3",
   "version": "3.9.16"
  }
 },
 "nbformat": 4,
 "nbformat_minor": 4
}
